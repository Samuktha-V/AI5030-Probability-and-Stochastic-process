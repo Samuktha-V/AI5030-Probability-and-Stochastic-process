{
 "cells": [
  {
   "cell_type": "markdown",
   "id": "5d19efe5",
   "metadata": {},
   "source": [
    "# Importing essential libraries"
   ]
  },
  {
   "cell_type": "code",
   "execution_count": 2,
   "id": "24887dd6",
   "metadata": {},
   "outputs": [],
   "source": [
    "import numpy as np\n",
    "import os\n",
    "import random\n",
    "import moviepy.editor\n"
   ]
  },
  {
   "cell_type": "markdown",
   "id": "23dc11cb",
   "metadata": {},
   "source": [
    "# Reading the video files"
   ]
  },
  {
   "cell_type": "code",
   "execution_count": 3,
   "id": "9e1173c9",
   "metadata": {},
   "outputs": [],
   "source": [
    "#listing the directories in the folder\n",
    "directories=os.listdir(\"C:/Users/Admin/Documents/Mtech AI/SEM 1/Probability/Untitled Folder\")\n",
    "#reading the video directories and apending them into array\n",
    "vid=[]\n",
    "for x in directories:\n",
    "    if x=='Videos':\n",
    "        #considering all the videoclips in the 'Videos' file\n",
    "        vidlist=os.listdir(\"C:/Users/Admin/Documents/Mtech AI/SEM 1/Probability/Untitled Folder/Videos\")\n",
    "        for y in vidlist:\n",
    "            #print(y)\n",
    "            video = moviepy.editor.VideoFileClip(\"C:/Users/Admin/Documents/Mtech AI/SEM 1/Probability/Untitled Folder/Videos\"+\"/\"+str(y))\n",
    "            vid.append(video)\n",
    "        "
   ]
  },
  {
   "cell_type": "markdown",
   "id": "ad29ee27",
   "metadata": {},
   "source": [
    "# Extracting the audio files"
   ]
  },
  {
   "cell_type": "code",
   "execution_count": 4,
   "id": "2f436392",
   "metadata": {},
   "outputs": [
    {
     "name": "stdout",
     "output_type": "stream",
     "text": [
      "MoviePy - Writing audio in Audio0.mp3\n"
     ]
    },
    {
     "name": "stderr",
     "output_type": "stream",
     "text": [
      "                                                                    \r"
     ]
    },
    {
     "name": "stdout",
     "output_type": "stream",
     "text": [
      "MoviePy - Done.\n",
      "MoviePy - Writing audio in Audio1.mp3\n"
     ]
    },
    {
     "name": "stderr",
     "output_type": "stream",
     "text": [
      "                                                                     \r"
     ]
    },
    {
     "name": "stdout",
     "output_type": "stream",
     "text": [
      "MoviePy - Done.\n",
      "MoviePy - Writing audio in Audio2.mp3\n"
     ]
    },
    {
     "name": "stderr",
     "output_type": "stream",
     "text": [
      "                                                                    \r"
     ]
    },
    {
     "name": "stdout",
     "output_type": "stream",
     "text": [
      "MoviePy - Done.\n",
      "MoviePy - Writing audio in Audio3.mp3\n"
     ]
    },
    {
     "name": "stderr",
     "output_type": "stream",
     "text": [
      "                                                                   \r"
     ]
    },
    {
     "name": "stdout",
     "output_type": "stream",
     "text": [
      "MoviePy - Done.\n",
      "MoviePy - Writing audio in Audio4.mp3\n"
     ]
    },
    {
     "name": "stderr",
     "output_type": "stream",
     "text": [
      "                                                                     \r"
     ]
    },
    {
     "name": "stdout",
     "output_type": "stream",
     "text": [
      "MoviePy - Done.\n",
      "MoviePy - Writing audio in Audio5.mp3\n"
     ]
    },
    {
     "name": "stderr",
     "output_type": "stream",
     "text": [
      "                                                                      \r"
     ]
    },
    {
     "name": "stdout",
     "output_type": "stream",
     "text": [
      "MoviePy - Done.\n",
      "MoviePy - Writing audio in Audio6.mp3\n"
     ]
    },
    {
     "name": "stderr",
     "output_type": "stream",
     "text": [
      "                                                                      \r"
     ]
    },
    {
     "name": "stdout",
     "output_type": "stream",
     "text": [
      "MoviePy - Done.\n",
      "MoviePy - Writing audio in Audio7.mp3\n"
     ]
    },
    {
     "name": "stderr",
     "output_type": "stream",
     "text": [
      "                                                                      \r"
     ]
    },
    {
     "name": "stdout",
     "output_type": "stream",
     "text": [
      "MoviePy - Done.\n",
      "MoviePy - Writing audio in Audio8.mp3\n"
     ]
    },
    {
     "name": "stderr",
     "output_type": "stream",
     "text": [
      "                                                                   \r"
     ]
    },
    {
     "name": "stdout",
     "output_type": "stream",
     "text": [
      "MoviePy - Done.\n",
      "MoviePy - Writing audio in Audio9.mp3\n"
     ]
    },
    {
     "name": "stderr",
     "output_type": "stream",
     "text": [
      "                                                                      \r"
     ]
    },
    {
     "name": "stdout",
     "output_type": "stream",
     "text": [
      "MoviePy - Done.\n",
      "MoviePy - Writing audio in Audio10.mp3\n"
     ]
    },
    {
     "name": "stderr",
     "output_type": "stream",
     "text": [
      "                                                                      \r"
     ]
    },
    {
     "name": "stdout",
     "output_type": "stream",
     "text": [
      "MoviePy - Done.\n",
      "MoviePy - Writing audio in Audio11.mp3\n"
     ]
    },
    {
     "name": "stderr",
     "output_type": "stream",
     "text": [
      "                                                                     \r"
     ]
    },
    {
     "name": "stdout",
     "output_type": "stream",
     "text": [
      "MoviePy - Done.\n",
      "MoviePy - Writing audio in Audio12.mp3\n"
     ]
    },
    {
     "name": "stderr",
     "output_type": "stream",
     "text": [
      "                                                                     \r"
     ]
    },
    {
     "name": "stdout",
     "output_type": "stream",
     "text": [
      "MoviePy - Done.\n",
      "MoviePy - Writing audio in Audio13.mp3\n"
     ]
    },
    {
     "name": "stderr",
     "output_type": "stream",
     "text": [
      "                                                                   \r"
     ]
    },
    {
     "name": "stdout",
     "output_type": "stream",
     "text": [
      "MoviePy - Done.\n",
      "MoviePy - Writing audio in Audio14.mp3\n"
     ]
    },
    {
     "name": "stderr",
     "output_type": "stream",
     "text": [
      "                                                                     \r"
     ]
    },
    {
     "name": "stdout",
     "output_type": "stream",
     "text": [
      "MoviePy - Done.\n",
      "MoviePy - Writing audio in Audio15.mp3\n"
     ]
    },
    {
     "name": "stderr",
     "output_type": "stream",
     "text": [
      "                                                                     \r"
     ]
    },
    {
     "name": "stdout",
     "output_type": "stream",
     "text": [
      "MoviePy - Done.\n",
      "MoviePy - Writing audio in Audio16.mp3\n"
     ]
    },
    {
     "name": "stderr",
     "output_type": "stream",
     "text": [
      "                                                                    \r"
     ]
    },
    {
     "name": "stdout",
     "output_type": "stream",
     "text": [
      "MoviePy - Done.\n",
      "MoviePy - Writing audio in Audio17.mp3\n"
     ]
    },
    {
     "name": "stderr",
     "output_type": "stream",
     "text": [
      "                                                                   \r"
     ]
    },
    {
     "name": "stdout",
     "output_type": "stream",
     "text": [
      "MoviePy - Done.\n",
      "MoviePy - Writing audio in Audio18.mp3\n"
     ]
    },
    {
     "name": "stderr",
     "output_type": "stream",
     "text": [
      "                                                                      \r"
     ]
    },
    {
     "name": "stdout",
     "output_type": "stream",
     "text": [
      "MoviePy - Done.\n",
      "MoviePy - Writing audio in Audio19.mp3\n"
     ]
    },
    {
     "name": "stderr",
     "output_type": "stream",
     "text": [
      "                                                                   "
     ]
    },
    {
     "name": "stdout",
     "output_type": "stream",
     "text": [
      "MoviePy - Done.\n"
     ]
    },
    {
     "name": "stderr",
     "output_type": "stream",
     "text": [
      "\r"
     ]
    }
   ],
   "source": [
    "#extracting the audio from the corresponding video file and appending them onto array\n",
    "aud=[]\n",
    "for i in range(len(vid)):\n",
    "    aud.append(vid[i].audio)\n",
    "    #saving the audio files\n",
    "    aud[i].write_audiofile(\"Audio\"+str(i)+\".mp3\")"
   ]
  },
  {
   "cell_type": "markdown",
   "id": "35d12f8f",
   "metadata": {},
   "source": [
    "# Generating the Random number"
   ]
  },
  {
   "cell_type": "code",
   "execution_count": 5,
   "id": "3044a8f2",
   "metadata": {},
   "outputs": [
    {
     "name": "stdout",
     "output_type": "stream",
     "text": [
      "The randomly geneearted sequence :  [12, 6, 4, 10, 19, 8, 3, 17, 18, 0, 15, 5, 1, 14, 11, 2, 13, 16, 7, 9]\n"
     ]
    }
   ],
   "source": [
    "#generating the random list to play the audio accordingly\n",
    "arr=np.arange(0,20,1)\n",
    "randomlist=random.sample(sorted(arr),k=20)   \n",
    "print(\"The randomly geneearted sequence : \",randomlist)"
   ]
  },
  {
   "cell_type": "markdown",
   "id": "455b6f87",
   "metadata": {},
   "source": [
    "# The random audio playlist "
   ]
  },
  {
   "cell_type": "code",
   "execution_count": 6,
   "id": "581759ed",
   "metadata": {},
   "outputs": [
    {
     "name": "stdout",
     "output_type": "stream",
     "text": [
      "Audio12.mp3\n",
      "Audio6.mp3\n",
      "Audio4.mp3\n",
      "Audio10.mp3\n",
      "Audio19.mp3\n",
      "Audio8.mp3\n",
      "Audio3.mp3\n",
      "Audio17.mp3\n",
      "Audio18.mp3\n",
      "Audio0.mp3\n",
      "Audio15.mp3\n",
      "Audio5.mp3\n",
      "Audio1.mp3\n",
      "Audio14.mp3\n",
      "Audio11.mp3\n",
      "Audio2.mp3\n",
      "Audio13.mp3\n",
      "Audio16.mp3\n",
      "Audio7.mp3\n",
      "Audio9.mp3\n"
     ]
    }
   ],
   "source": [
    "#playing audio according to the random generated numbers\n",
    "for i in randomlist:\n",
    "    print(\"Audio\"+str(i)+\".mp3\")"
   ]
  },
  {
   "cell_type": "markdown",
   "id": "5091e935",
   "metadata": {},
   "source": [
    "# Creating a GUI to play the random playlist"
   ]
  },
  {
   "cell_type": "code",
   "execution_count": 1,
   "id": "08307047",
   "metadata": {},
   "outputs": [
    {
     "name": "stdout",
     "output_type": "stream",
     "text": [
      "pygame 2.4.0 (SDL 2.26.4, Python 3.9.13)\n",
      "Hello from the pygame community. https://www.pygame.org/contribute.html\n"
     ]
    },
    {
     "ename": "NameError",
     "evalue": "name 'randomlist' is not defined",
     "output_type": "error",
     "traceback": [
      "\u001b[1;31m---------------------------------------------------------------------------\u001b[0m",
      "\u001b[1;31mNameError\u001b[0m                                 Traceback (most recent call last)",
      "\u001b[1;32m~\\AppData\\Local\\Temp\\ipykernel_19740\\843384255.py\u001b[0m in \u001b[0;36m<module>\u001b[1;34m\u001b[0m\n\u001b[0;32m     38\u001b[0m \u001b[1;32mif\u001b[0m \u001b[0m__name__\u001b[0m \u001b[1;33m==\u001b[0m \u001b[1;34m\"__main__\"\u001b[0m\u001b[1;33m:\u001b[0m\u001b[1;33m\u001b[0m\u001b[1;33m\u001b[0m\u001b[0m\n\u001b[0;32m     39\u001b[0m     \u001b[0maudio_files\u001b[0m\u001b[1;33m=\u001b[0m\u001b[1;33m[\u001b[0m\u001b[1;33m]\u001b[0m\u001b[1;33m\u001b[0m\u001b[1;33m\u001b[0m\u001b[0m\n\u001b[1;32m---> 40\u001b[1;33m     \u001b[1;32mfor\u001b[0m \u001b[0mi\u001b[0m \u001b[1;32min\u001b[0m \u001b[0mrandomlist\u001b[0m\u001b[1;33m:\u001b[0m\u001b[1;33m\u001b[0m\u001b[1;33m\u001b[0m\u001b[0m\n\u001b[0m\u001b[0;32m     41\u001b[0m         \u001b[0maudio_files\u001b[0m\u001b[1;33m.\u001b[0m\u001b[0mappend\u001b[0m\u001b[1;33m(\u001b[0m\u001b[1;34m\"Audio\"\u001b[0m\u001b[1;33m+\u001b[0m\u001b[0mstr\u001b[0m\u001b[1;33m(\u001b[0m\u001b[0mi\u001b[0m\u001b[1;33m)\u001b[0m\u001b[1;33m+\u001b[0m\u001b[1;34m\".mp3\"\u001b[0m\u001b[1;33m)\u001b[0m\u001b[1;33m\u001b[0m\u001b[1;33m\u001b[0m\u001b[0m\n\u001b[0;32m     42\u001b[0m \u001b[1;33m\u001b[0m\u001b[0m\n",
      "\u001b[1;31mNameError\u001b[0m: name 'randomlist' is not defined"
     ]
    }
   ],
   "source": [
    "#creating the GUI to play the audio\n",
    "import tkinter as tk\n",
    "from pygame import mixer\n",
    "\n",
    "class AudioPlayerGUI(tk.Tk):\n",
    "    def __init__(self, audio_files):\n",
    "        super().__init__()\n",
    "        self.title(\"Audio Player\")\n",
    "        \n",
    "        self.audio_files = audio_files\n",
    "        self.current_file_index = 0\n",
    "\n",
    "        self.mixer = mixer\n",
    "        self.mixer.init()\n",
    "\n",
    "        self.create_widgets()\n",
    "\n",
    "    def create_widgets(self):\n",
    "        self.play_button = tk.Button(self, text=\"Play\", command=self.play_audio)\n",
    "        self.play_button.pack()\n",
    "\n",
    "        self.next_button = tk.Button(self, text=\"Next\", command=self.play_next_audio)\n",
    "        self.next_button.pack()\n",
    "\n",
    "        self.quit_button = tk.Button(self, text=\"Quit\", command=self.quit)\n",
    "        self.quit_button.pack()\n",
    "\n",
    "    def play_audio(self):\n",
    "        audio_file = self.audio_files[self.current_file_index]\n",
    "        self.mixer.music.load(audio_file)\n",
    "        self.mixer.music.play()\n",
    "\n",
    "    def play_next_audio(self):\n",
    "        self.mixer.music.stop()\n",
    "        self.current_file_index = (self.current_file_index + 1) % len(self.audio_files)\n",
    "        self.play_audio()\n",
    "\n",
    "if __name__ == \"__main__\":\n",
    "    audio_files=[]\n",
    "    for i in randomlist:\n",
    "        audio_files.append(\"Audio\"+str(i)+\".mp3\")\n",
    "\n",
    "    app = AudioPlayerGUI(audio_files)\n",
    "    app.mainloop()"
   ]
  },
  {
   "cell_type": "code",
   "execution_count": null,
   "id": "dc1ffe96",
   "metadata": {},
   "outputs": [],
   "source": []
  }
 ],
 "metadata": {
  "kernelspec": {
   "display_name": "Python 3 (ipykernel)",
   "language": "python",
   "name": "python3"
  },
  "language_info": {
   "codemirror_mode": {
    "name": "ipython",
    "version": 3
   },
   "file_extension": ".py",
   "mimetype": "text/x-python",
   "name": "python",
   "nbconvert_exporter": "python",
   "pygments_lexer": "ipython3",
   "version": "3.9.13"
  }
 },
 "nbformat": 4,
 "nbformat_minor": 5
}
